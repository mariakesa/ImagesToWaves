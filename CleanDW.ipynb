{
 "cells": [
  {
   "cell_type": "code",
   "execution_count": 1,
   "id": "df8dc79c",
   "metadata": {},
   "outputs": [
    {
     "name": "stdout",
     "output_type": "stream",
     "text": [
      "Reading /home/maria/Downloads/derivatives_eeglab_sub-01_task-rsvp_continuous.fdt\n"
     ]
    },
    {
     "name": "stderr",
     "output_type": "stream",
     "text": [
      "<ipython-input-1-b986d27440b6>:2: RuntimeWarning: Estimated head radius (0.2 cm) is below the 3rd percentile for infant head size. Check if the montage_units argument is correct (the default is \"mm\", but your channel positions may be in different units).\n",
      "  dat=mne.io.read_raw_eeglab('/home/maria/Downloads/derivatives_eeglab_sub-01_task-rsvp_continuous.set')\n",
      "<ipython-input-1-b986d27440b6>:2: RuntimeWarning: Data file name in EEG.data (sub-01_task-rsvp_continuous.fdt) is incorrect, the file name must have changed on disk, using the correct file name (derivatives_eeglab_sub-01_task-rsvp_continuous.fdt).\n",
      "  dat=mne.io.read_raw_eeglab('/home/maria/Downloads/derivatives_eeglab_sub-01_task-rsvp_continuous.set')\n",
      "<ipython-input-1-b986d27440b6>:2: RuntimeWarning: The data contains 'boundary' events, indicating data discontinuities. Be cautious of filtering and epoching around these events.\n",
      "  dat=mne.io.read_raw_eeglab('/home/maria/Downloads/derivatives_eeglab_sub-01_task-rsvp_continuous.set')\n"
     ]
    }
   ],
   "source": [
    "import mne\n",
    "dat=mne.io.read_raw_eeglab('/home/maria/Downloads/derivatives_eeglab_sub-01_task-rsvp_continuous.set')"
   ]
  },
  {
   "cell_type": "code",
   "execution_count": 2,
   "id": "a0c7111a",
   "metadata": {},
   "outputs": [],
   "source": [
    "import pandas as pd\n",
    "events=pd.read_csv('/home/maria/Downloads/sub-01_eeg_sub-01_task-rsvp_events.tsv', sep='\\t', header=0)\n"
   ]
  },
  {
   "cell_type": "code",
   "execution_count": 3,
   "id": "bb757076",
   "metadata": {},
   "outputs": [
    {
     "name": "stdout",
     "output_type": "stream",
     "text": [
      "Used Annotations descriptions: ['E  1', 'E  2', 'E  3', 'boundary']\n"
     ]
    }
   ],
   "source": [
    "events_eeg, event_id = mne.events_from_annotations(dat)"
   ]
  },
  {
   "cell_type": "code",
   "execution_count": 4,
   "id": "fffe5d5d",
   "metadata": {},
   "outputs": [
    {
     "data": {
      "text/plain": [
       "array([[     0,      0,      4],\n",
       "       [  2431,      0,      3],\n",
       "       [  2681,      0,      1],\n",
       "       ...,\n",
       "       [755769,      0,      2],\n",
       "       [755782,      0,      1],\n",
       "       [755794,      0,      2]])"
      ]
     },
     "execution_count": 4,
     "metadata": {},
     "output_type": "execute_result"
    }
   ],
   "source": [
    "events_eeg"
   ]
  },
  {
   "cell_type": "code",
   "execution_count": 5,
   "id": "28da8f30",
   "metadata": {
    "scrolled": false
   },
   "outputs": [
    {
     "name": "stdout",
     "output_type": "stream",
     "text": [
      "         onset  duration  eventnumber  objectnumber     object  \\\n",
      "0        10724        50            0           275   carousel   \n",
      "1        10824        50            1          1165      piano   \n",
      "2        10924        50            2          1735  turntable   \n",
      "3        11024        50            3          1643       tent   \n",
      "4        11124        50            4          1564     stove2   \n",
      "...        ...       ...          ...           ...        ...   \n",
      "22243  3022727        50        22243           561  exerciser   \n",
      "22244  3022827        50        22244           975     marker   \n",
      "22245  3022927        50        22245           945   lollipop   \n",
      "22246  3023027        50        22246           256  candy_bar   \n",
      "22247  3023127        50        22247          1520      spout   \n",
      "\n",
      "       sequencenumber  presentationnumber  blocksequencenumber  \\\n",
      "0                   0                   0                    0   \n",
      "1                   0                   1                    0   \n",
      "2                   0                   2                    0   \n",
      "3                   0                   3                    0   \n",
      "4                   0                   4                    0   \n",
      "...               ...                 ...                  ...   \n",
      "22243              71                 304                   11   \n",
      "22244              71                 305                   11   \n",
      "22245              71                 306                   11   \n",
      "22246              71                 307                   11   \n",
      "22247              71                 308                   11   \n",
      "\n",
      "       withinsequencenumber  stimnumber                                 stim  \\\n",
      "0                         0          10    stimuli\\carousel\\carousel_11s.jpg   \n",
      "1                         0           4          stimuli\\piano\\piano_05n.jpg   \n",
      "2                         0          11  stimuli\\turntable\\turntable_12s.jpg   \n",
      "3                         0           7            stimuli\\tent\\tent_08n.jpg   \n",
      "4                         0           8        stimuli\\stove2\\stove2_09s.jpg   \n",
      "...                     ...         ...                                  ...   \n",
      "22243                     5           7  stimuli\\exerciser\\exerciser_08s.jpg   \n",
      "22244                     5           2        stimuli\\marker\\marker_03s.jpg   \n",
      "22245                     5           3    stimuli\\lollipop\\lollipop_04s.jpg   \n",
      "22246                     5           7  stimuli\\candy_bar\\candy_bar_08s.jpg   \n",
      "22247                     5           3          stimuli\\spout\\spout_04s.jpg   \n",
      "\n",
      "       istarget           stimname  response   rt  correct  time_stimon  \\\n",
      "0             0   carousel_11s.jpg         0  0.0        0    61.552560   \n",
      "1             0      piano_05n.jpg         0  0.0        0    61.652560   \n",
      "2             0  turntable_12s.jpg         0  0.0        0    61.752561   \n",
      "3             0       tent_08n.jpg         0  0.0        0    61.852564   \n",
      "4             0     stove2_09s.jpg         0  0.0        0    61.952542   \n",
      "...         ...                ...       ...  ...      ...          ...   \n",
      "22243         0  exerciser_08s.jpg         0  0.0        0  3073.566026   \n",
      "22244         0     marker_03s.jpg         0  0.0        0  3073.666030   \n",
      "22245         0   lollipop_04s.jpg         0  0.0        0  3073.766028   \n",
      "22246         0  candy_bar_08s.jpg         0  0.0        0  3073.866032   \n",
      "22247         0      spout_04s.jpg         0  0.0        0  3073.966039   \n",
      "\n",
      "       time_stimoff   stimdur  \n",
      "0         61.602540  0.049980  \n",
      "1         61.702538  0.049977  \n",
      "2         61.802545  0.049984  \n",
      "3         61.902516  0.049951  \n",
      "4         62.002516  0.049974  \n",
      "...             ...       ...  \n",
      "22243   3073.616007  0.049981  \n",
      "22244   3073.716011  0.049981  \n",
      "22245   3073.816012  0.049984  \n",
      "22246   3073.916012  0.049980  \n",
      "22247   3074.016016  0.049977  \n",
      "\n",
      "[22248 rows x 19 columns]\n"
     ]
    }
   ],
   "source": [
    "print(events)"
   ]
  },
  {
   "cell_type": "code",
   "execution_count": 6,
   "id": "eab03982",
   "metadata": {
    "scrolled": false
   },
   "outputs": [
    {
     "data": {
      "text/plain": [
       "['onset',\n",
       " 'duration',\n",
       " 'eventnumber',\n",
       " 'objectnumber',\n",
       " 'object',\n",
       " 'sequencenumber',\n",
       " 'presentationnumber',\n",
       " 'blocksequencenumber',\n",
       " 'withinsequencenumber',\n",
       " 'stimnumber',\n",
       " 'stim',\n",
       " 'istarget',\n",
       " 'stimname',\n",
       " 'response',\n",
       " 'rt',\n",
       " 'correct',\n",
       " 'time_stimon',\n",
       " 'time_stimoff',\n",
       " 'stimdur']"
      ]
     },
     "execution_count": 6,
     "metadata": {},
     "output_type": "execute_result"
    }
   ],
   "source": [
    "list(events)"
   ]
  },
  {
   "cell_type": "code",
   "execution_count": 10,
   "id": "129ddd97",
   "metadata": {},
   "outputs": [],
   "source": [
    "eeg_df=dat.to_data_frame()"
   ]
  },
  {
   "cell_type": "code",
   "execution_count": 11,
   "id": "bca7569a",
   "metadata": {
    "scrolled": true
   },
   "outputs": [
    {
     "name": "stdout",
     "output_type": "stream",
     "text": [
      "            time         Fp1         Fz         F3         F7        FT9  \\\n",
      "0          0.000  -18.718849   3.114996   0.699508 -25.903978 -10.220798   \n",
      "1          0.004  -13.751985   7.934219   2.261670 -24.238207  -4.785899   \n",
      "2          0.008   -0.646213  12.757488   2.047870 -21.501438  -1.299244   \n",
      "3          0.012   -4.287172   9.130175   0.451229 -29.563072 -14.166145   \n",
      "4          0.016  -12.503530   5.229737  -2.318077 -28.414206 -15.907533   \n",
      "...          ...         ...        ...        ...        ...        ...   \n",
      "758930  3035.720  -87.285393   1.276156 -39.478657 -98.659195 -45.364594   \n",
      "758931  3035.724  -97.674225  -3.455768 -42.262478 -98.011940 -49.550583   \n",
      "758932  3035.728 -104.228767  -4.359319 -46.054260 -97.994553 -50.301624   \n",
      "758933  3035.732  -96.600113  -0.847905 -43.962696 -99.463104 -52.629890   \n",
      "758934  3035.736  -85.413612   3.622068 -39.910282 -96.450302 -55.190174   \n",
      "\n",
      "              FC5       FC1         C3         T7  ...         C6         C2  \\\n",
      "0       -4.386106  9.194303   6.221677  -5.273910  ...   9.314235  -1.428208   \n",
      "1       -4.344290  9.442557  -2.200526 -12.109086  ...   8.167401  -0.255947   \n",
      "2       -1.522489  9.568386   0.249126   1.395538  ...   8.168926  -2.564536   \n",
      "3       -7.756516  7.219606   0.853010 -25.400393  ...   4.701989  -6.124348   \n",
      "4       -6.500531  7.203659  -5.337641 -55.632130  ...  -1.428544  -3.726030   \n",
      "...           ...       ...        ...        ...  ...        ...        ...   \n",
      "758930 -33.990025  4.633817  -6.372640 -46.559071  ...  20.891035   8.255315   \n",
      "758931 -34.868523  4.244261  -8.301973 -33.075993  ...  17.652472   8.669466   \n",
      "758932 -44.535553 -0.692877 -15.151399 -14.722863  ...  29.145012  13.248218   \n",
      "758933 -34.158768 -0.741723  -5.384854 -42.136024  ...  16.535744  12.514408   \n",
      "758934 -32.972435  2.664833  -5.987292 -35.257832  ...  17.797140   8.741218   \n",
      "\n",
      "              FC4        FT8         F6        AF8        AF4         F2  \\\n",
      "0        9.578927  19.573862  15.016768   0.007434  -5.099166   2.251824   \n",
      "1        9.090252  11.584027  15.031819   2.102934  11.423728   6.331036   \n",
      "2        9.184335  13.363972  16.361179   6.683286  21.685717   7.680823   \n",
      "3        6.859305  14.832430  14.021835   5.968809  15.938169   4.484838   \n",
      "4        4.948614   9.325240  14.718820   1.333427  14.058165   2.591611   \n",
      "...           ...        ...        ...        ...        ...        ...   \n",
      "758930  22.579905  61.659462  50.986164  59.980595   8.644125   9.410406   \n",
      "758931  23.582981  66.843086  50.678967  56.052231   0.937437   6.865257   \n",
      "758932  27.515846  72.764572  55.150257  55.111053  -0.808756   9.811886   \n",
      "758933  23.805014  57.441044  48.088394  49.274876   1.357081  10.672110   \n",
      "758934  22.731327  55.328186  47.639347  56.356453  10.913973  12.718354   \n",
      "\n",
      "             FCz        Cz  \n",
      "0       6.296582  3.729200  \n",
      "1       6.511239  4.068888  \n",
      "2       4.050063  2.271664  \n",
      "3       0.942950  0.285410  \n",
      "4       4.385415  1.913909  \n",
      "...          ...       ...  \n",
      "758930  3.157724  7.139411  \n",
      "758931  3.899073  7.369058  \n",
      "758932  4.493230  7.655472  \n",
      "758933  5.504866  8.338042  \n",
      "758934  5.610395  7.228868  \n",
      "\n",
      "[758935 rows x 65 columns]\n",
      "['time', 'Fp1', 'Fz', 'F3', 'F7', 'FT9', 'FC5', 'FC1', 'C3', 'T7', 'TP9', 'CP5', 'CP1', 'Pz', 'P3', 'P7', 'O1', 'Oz', 'O2', 'P4', 'P8', 'TP10', 'CP6', 'CP2', 'C4', 'T8', 'FT10', 'FC6', 'FC2', 'F4', 'F8', 'Fp2', 'AF7', 'AF3', 'AFz', 'F1', 'F5', 'FT7', 'FC3', 'C1', 'C5', 'TP7', 'CP3', 'P1', 'P5', 'PO7', 'PO3', 'POz', 'PO4', 'PO8', 'P6', 'P2', 'CPz', 'CP4', 'TP8', 'C6', 'C2', 'FC4', 'FT8', 'F6', 'AF8', 'AF4', 'F2', 'FCz', 'Cz']\n"
     ]
    }
   ],
   "source": [
    "print(eeg_df)\n",
    "print(list(eeg_df))"
   ]
  },
  {
   "cell_type": "code",
   "execution_count": 12,
   "id": "d8a0fe64",
   "metadata": {},
   "outputs": [],
   "source": [
    "epochs_list = []\n",
    "for i in range(len(events)):\n",
    "    event = events.iloc[i]\n",
    "    event_time_stimon = event['time_stimon']\n",
    "    tmin = event_time_stimon - 0.1\n",
    "    tmax = event_time_stimon + 1.0\n",
    "    epoch = eeg_df[(eeg_df['time'] >= tmin) & (eeg_df['time'] <= tmax)]\n",
    "    epochs_list.append(epoch)"
   ]
  },
  {
   "cell_type": "code",
   "execution_count": 13,
   "id": "6fa1a86d",
   "metadata": {
    "scrolled": false
   },
   "outputs": [
    {
     "name": "stdout",
     "output_type": "stream",
     "text": [
      "(275, 65)\n"
     ]
    }
   ],
   "source": [
    "print(epochs_list[0].shape)"
   ]
  },
  {
   "cell_type": "code",
   "execution_count": 14,
   "id": "f740dd7f",
   "metadata": {},
   "outputs": [],
   "source": [
    "import pickle\n",
    "\n",
    "# Save the epochs_list object as a pickle file\n",
    "with open('/media/maria/DATA1/EEGdat/subj1/subj1epochs.pkl', 'wb') as file:\n",
    "    pickle.dump(epochs_list, file)"
   ]
  }
 ],
 "metadata": {
  "kernelspec": {
   "display_name": "Python 3",
   "language": "python",
   "name": "python3"
  },
  "language_info": {
   "codemirror_mode": {
    "name": "ipython",
    "version": 3
   },
   "file_extension": ".py",
   "mimetype": "text/x-python",
   "name": "python",
   "nbconvert_exporter": "python",
   "pygments_lexer": "ipython3",
   "version": "3.7.10"
  }
 },
 "nbformat": 4,
 "nbformat_minor": 5
}
